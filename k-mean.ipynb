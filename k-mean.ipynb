{
 "cells": [
  {
   "cell_type": "markdown",
   "metadata": {},
   "source": [
    "<h1> UTILIZZO DI K-MEANS"
   ]
  },
  {
   "cell_type": "code",
   "execution_count": 8,
   "metadata": {},
   "outputs": [
    {
     "name": "stdout",
     "output_type": "stream",
     "text": [
      "Silhouette Score: 0.07307979172928696\n",
      "   label  cluster\n",
      "0  blues        2\n",
      "1  blues        2\n",
      "2  blues        2\n",
      "3  blues        2\n",
      "4  blues        2\n"
     ]
    }
   ],
   "source": [
    "import pandas as pd\n",
    "from sklearn.decomposition import PCA\n",
    "from sklearn.model_selection import train_test_split\n",
    "from sklearn.preprocessing import StandardScaler\n",
    "from sklearn.svm import SVC\n",
    "from sklearn.metrics import accuracy_score\n",
    "from sklearn.preprocessing import RobustScaler\n",
    "from sklearn.preprocessing import MinMaxScaler\n",
    "from sklearn.preprocessing import PowerTransformer  # Importa PowerTransformer\n",
    "from sklearn.preprocessing import QuantileTransformer\n",
    "from sklearn.metrics import accuracy_score, precision_score, recall_score, f1_score, fbeta_score, hinge_loss\n",
    "from sklearn.cluster import KMeans\n",
    "from sklearn.metrics import silhouette_score\n",
    "\n",
    "file_path = 'Data/features_3_sec.csv'\n",
    "data = pd.read_csv(file_path)\n",
    "\n",
    "# Stampa i nomi delle colonne per verificare\n",
    "#print(\"Colonne nel DataFrame:\", data.columns)\n",
    "\n",
    "# Separare le caratteristiche e le etichette\n",
    "X = data.drop(columns=['filename', 'label'])  # Rimuovi filename e label\n",
    "y = data['label']  # Etichette\n",
    "\n",
    "# Suddividere il dataset in set di addestramento e test\n",
    "X_train, X_test, y_train, y_test = train_test_split(X, y, test_size=0.2, random_state=42)\n",
    "\n",
    "X = data.drop(columns=['filename','label'])\n",
    "\n",
    "# 3. Normalizzazione dei dati\n",
    "scaler = StandardScaler()\n",
    "X_scaled = scaler.fit_transform(X)\n",
    "\n",
    "\n",
    "# 3. Applicare PCA per ridurre la dimensionalità\n",
    "pca = PCA(n_components=3)  # Riduci a 2 componenti per la visualizzazione\n",
    "X_pca = pca.fit_transform(X_scaled)\n",
    "\n",
    "# 4. Applicare K-means\n",
    "# Specifichiamo 10 cluster, poiché stiamo classificando 10 generi musicali\n",
    "kmeans = KMeans(n_clusters=10, random_state=42)\n",
    "kmeans.fit(X_scaled)\n",
    "\n",
    "# 5. Aggiungere i cluster al dataframe originale\n",
    "data['cluster'] = kmeans.labels_\n",
    "\n",
    "# 6. (Opzionale) Valutazione del clustering tramite il Silhouette Score\n",
    "silhouette_avg = silhouette_score(X_scaled, kmeans.labels_)\n",
    "print(f\"Silhouette Score: {silhouette_avg}\")\n",
    "\n",
    "# 7. Visualizzare i risultati del clustering\n",
    "print(data[['label', 'cluster']].head())\n"
   ]
  }
 ],
 "metadata": {
  "kernelspec": {
   "display_name": "Python 3",
   "language": "python",
   "name": "python3"
  },
  "language_info": {
   "codemirror_mode": {
    "name": "ipython",
    "version": 3
   },
   "file_extension": ".py",
   "mimetype": "text/x-python",
   "name": "python",
   "nbconvert_exporter": "python",
   "pygments_lexer": "ipython3",
   "version": "3.12.7"
  }
 },
 "nbformat": 4,
 "nbformat_minor": 2
}

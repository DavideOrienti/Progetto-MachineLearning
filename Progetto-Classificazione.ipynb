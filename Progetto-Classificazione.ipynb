{
 "cells": [
  {
   "cell_type": "code",
   "execution_count": 46,
   "metadata": {},
   "outputs": [],
   "source": [
    "#importiamo le librerie di base\n",
    "import numpy as np \n",
    "import pandas as pd \n",
    "import librosa.display  # questa sereve per la rappresentazione grafica e gestione di file audio\n",
    "import matplotlib.pyplot as plt  # serve per calcoli matematic "
   ]
  },
  {
   "cell_type": "code",
   "execution_count": 47,
   "metadata": {},
   "outputs": [
    {
     "data": {
      "text/html": [
       "<div>\n",
       "<style scoped>\n",
       "    .dataframe tbody tr th:only-of-type {\n",
       "        vertical-align: middle;\n",
       "    }\n",
       "\n",
       "    .dataframe tbody tr th {\n",
       "        vertical-align: top;\n",
       "    }\n",
       "\n",
       "    .dataframe thead th {\n",
       "        text-align: right;\n",
       "    }\n",
       "</style>\n",
       "<table border=\"1\" class=\"dataframe\">\n",
       "  <thead>\n",
       "    <tr style=\"text-align: right;\">\n",
       "      <th></th>\n",
       "      <th>filename</th>\n",
       "      <th>length</th>\n",
       "      <th>chroma_stft_mean</th>\n",
       "      <th>chroma_stft_var</th>\n",
       "      <th>rms_mean</th>\n",
       "      <th>rms_var</th>\n",
       "      <th>spectral_centroid_mean</th>\n",
       "      <th>spectral_centroid_var</th>\n",
       "      <th>spectral_bandwidth_mean</th>\n",
       "      <th>spectral_bandwidth_var</th>\n",
       "      <th>...</th>\n",
       "      <th>mfcc16_var</th>\n",
       "      <th>mfcc17_mean</th>\n",
       "      <th>mfcc17_var</th>\n",
       "      <th>mfcc18_mean</th>\n",
       "      <th>mfcc18_var</th>\n",
       "      <th>mfcc19_mean</th>\n",
       "      <th>mfcc19_var</th>\n",
       "      <th>mfcc20_mean</th>\n",
       "      <th>mfcc20_var</th>\n",
       "      <th>label</th>\n",
       "    </tr>\n",
       "  </thead>\n",
       "  <tbody>\n",
       "    <tr>\n",
       "      <th>0</th>\n",
       "      <td>blues.00000.wav</td>\n",
       "      <td>661794</td>\n",
       "      <td>0.350088</td>\n",
       "      <td>0.088757</td>\n",
       "      <td>0.130228</td>\n",
       "      <td>0.002827</td>\n",
       "      <td>1784.165850</td>\n",
       "      <td>129774.064525</td>\n",
       "      <td>2002.449060</td>\n",
       "      <td>85882.761315</td>\n",
       "      <td>...</td>\n",
       "      <td>52.420910</td>\n",
       "      <td>-1.690215</td>\n",
       "      <td>36.524071</td>\n",
       "      <td>-0.408979</td>\n",
       "      <td>41.597103</td>\n",
       "      <td>-2.303523</td>\n",
       "      <td>55.062923</td>\n",
       "      <td>1.221291</td>\n",
       "      <td>46.936035</td>\n",
       "      <td>blues</td>\n",
       "    </tr>\n",
       "    <tr>\n",
       "      <th>1</th>\n",
       "      <td>blues.00001.wav</td>\n",
       "      <td>661794</td>\n",
       "      <td>0.340914</td>\n",
       "      <td>0.094980</td>\n",
       "      <td>0.095948</td>\n",
       "      <td>0.002373</td>\n",
       "      <td>1530.176679</td>\n",
       "      <td>375850.073649</td>\n",
       "      <td>2039.036516</td>\n",
       "      <td>213843.755497</td>\n",
       "      <td>...</td>\n",
       "      <td>55.356403</td>\n",
       "      <td>-0.731125</td>\n",
       "      <td>60.314529</td>\n",
       "      <td>0.295073</td>\n",
       "      <td>48.120598</td>\n",
       "      <td>-0.283518</td>\n",
       "      <td>51.106190</td>\n",
       "      <td>0.531217</td>\n",
       "      <td>45.786282</td>\n",
       "      <td>blues</td>\n",
       "    </tr>\n",
       "    <tr>\n",
       "      <th>2</th>\n",
       "      <td>blues.00002.wav</td>\n",
       "      <td>661794</td>\n",
       "      <td>0.363637</td>\n",
       "      <td>0.085275</td>\n",
       "      <td>0.175570</td>\n",
       "      <td>0.002746</td>\n",
       "      <td>1552.811865</td>\n",
       "      <td>156467.643368</td>\n",
       "      <td>1747.702312</td>\n",
       "      <td>76254.192257</td>\n",
       "      <td>...</td>\n",
       "      <td>40.598766</td>\n",
       "      <td>-7.729093</td>\n",
       "      <td>47.639427</td>\n",
       "      <td>-1.816407</td>\n",
       "      <td>52.382141</td>\n",
       "      <td>-3.439720</td>\n",
       "      <td>46.639660</td>\n",
       "      <td>-2.231258</td>\n",
       "      <td>30.573025</td>\n",
       "      <td>blues</td>\n",
       "    </tr>\n",
       "    <tr>\n",
       "      <th>3</th>\n",
       "      <td>blues.00003.wav</td>\n",
       "      <td>661794</td>\n",
       "      <td>0.404785</td>\n",
       "      <td>0.093999</td>\n",
       "      <td>0.141093</td>\n",
       "      <td>0.006346</td>\n",
       "      <td>1070.106615</td>\n",
       "      <td>184355.942417</td>\n",
       "      <td>1596.412872</td>\n",
       "      <td>166441.494769</td>\n",
       "      <td>...</td>\n",
       "      <td>44.427753</td>\n",
       "      <td>-3.319597</td>\n",
       "      <td>50.206673</td>\n",
       "      <td>0.636965</td>\n",
       "      <td>37.319130</td>\n",
       "      <td>-0.619121</td>\n",
       "      <td>37.259739</td>\n",
       "      <td>-3.407448</td>\n",
       "      <td>31.949339</td>\n",
       "      <td>blues</td>\n",
       "    </tr>\n",
       "    <tr>\n",
       "      <th>4</th>\n",
       "      <td>blues.00004.wav</td>\n",
       "      <td>661794</td>\n",
       "      <td>0.308526</td>\n",
       "      <td>0.087841</td>\n",
       "      <td>0.091529</td>\n",
       "      <td>0.002303</td>\n",
       "      <td>1835.004266</td>\n",
       "      <td>343399.939274</td>\n",
       "      <td>1748.172116</td>\n",
       "      <td>88445.209036</td>\n",
       "      <td>...</td>\n",
       "      <td>86.099236</td>\n",
       "      <td>-5.454034</td>\n",
       "      <td>75.269707</td>\n",
       "      <td>-0.916874</td>\n",
       "      <td>53.613918</td>\n",
       "      <td>-4.404827</td>\n",
       "      <td>62.910812</td>\n",
       "      <td>-11.703234</td>\n",
       "      <td>55.195160</td>\n",
       "      <td>blues</td>\n",
       "    </tr>\n",
       "  </tbody>\n",
       "</table>\n",
       "<p>5 rows × 60 columns</p>\n",
       "</div>"
      ],
      "text/plain": [
       "          filename  length  chroma_stft_mean  chroma_stft_var  rms_mean  \\\n",
       "0  blues.00000.wav  661794          0.350088         0.088757  0.130228   \n",
       "1  blues.00001.wav  661794          0.340914         0.094980  0.095948   \n",
       "2  blues.00002.wav  661794          0.363637         0.085275  0.175570   \n",
       "3  blues.00003.wav  661794          0.404785         0.093999  0.141093   \n",
       "4  blues.00004.wav  661794          0.308526         0.087841  0.091529   \n",
       "\n",
       "    rms_var  spectral_centroid_mean  spectral_centroid_var  \\\n",
       "0  0.002827             1784.165850          129774.064525   \n",
       "1  0.002373             1530.176679          375850.073649   \n",
       "2  0.002746             1552.811865          156467.643368   \n",
       "3  0.006346             1070.106615          184355.942417   \n",
       "4  0.002303             1835.004266          343399.939274   \n",
       "\n",
       "   spectral_bandwidth_mean  spectral_bandwidth_var  ...  mfcc16_var  \\\n",
       "0              2002.449060            85882.761315  ...   52.420910   \n",
       "1              2039.036516           213843.755497  ...   55.356403   \n",
       "2              1747.702312            76254.192257  ...   40.598766   \n",
       "3              1596.412872           166441.494769  ...   44.427753   \n",
       "4              1748.172116            88445.209036  ...   86.099236   \n",
       "\n",
       "   mfcc17_mean  mfcc17_var  mfcc18_mean  mfcc18_var  mfcc19_mean  mfcc19_var  \\\n",
       "0    -1.690215   36.524071    -0.408979   41.597103    -2.303523   55.062923   \n",
       "1    -0.731125   60.314529     0.295073   48.120598    -0.283518   51.106190   \n",
       "2    -7.729093   47.639427    -1.816407   52.382141    -3.439720   46.639660   \n",
       "3    -3.319597   50.206673     0.636965   37.319130    -0.619121   37.259739   \n",
       "4    -5.454034   75.269707    -0.916874   53.613918    -4.404827   62.910812   \n",
       "\n",
       "   mfcc20_mean  mfcc20_var  label  \n",
       "0     1.221291   46.936035  blues  \n",
       "1     0.531217   45.786282  blues  \n",
       "2    -2.231258   30.573025  blues  \n",
       "3    -3.407448   31.949339  blues  \n",
       "4   -11.703234   55.195160  blues  \n",
       "\n",
       "[5 rows x 60 columns]"
      ]
     },
     "execution_count": 47,
     "metadata": {},
     "output_type": "execute_result"
    }
   ],
   "source": [
    "#importiamo il dataset\n",
    "music_data = pd.read_csv('Data/features_30_sec.csv') \n",
    "music_data_3sec = pd.read_csv('Data/features_3_sec.csv') \n",
    "\n",
    "music_data.head(5) #per vedere le prime 5 colonne del dataset\n",
    "\n"
   ]
  },
  {
   "cell_type": "code",
   "execution_count": 48,
   "metadata": {},
   "outputs": [
    {
     "data": {
      "text/plain": [
       "label\n",
       "blues        100\n",
       "classical    100\n",
       "country      100\n",
       "disco        100\n",
       "hiphop       100\n",
       "jazz         100\n",
       "metal        100\n",
       "pop          100\n",
       "reggae       100\n",
       "rock         100\n",
       "Name: count, dtype: int64"
      ]
     },
     "execution_count": 48,
     "metadata": {},
     "output_type": "execute_result"
    }
   ],
   "source": [
    "music_data['label'].value_counts() # andiamo a vedere il n° di dati e tipologia per ogni genere"
   ]
  },
  {
   "cell_type": "code",
   "execution_count": 49,
   "metadata": {},
   "outputs": [
    {
     "data": {
      "text/plain": [
       "label\n",
       "blues        1000\n",
       "jazz         1000\n",
       "metal        1000\n",
       "pop          1000\n",
       "reggae       1000\n",
       "disco         999\n",
       "classical     998\n",
       "hiphop        998\n",
       "rock          998\n",
       "country       997\n",
       "Name: count, dtype: int64"
      ]
     },
     "execution_count": 49,
     "metadata": {},
     "output_type": "execute_result"
    }
   ],
   "source": [
    "music_data_3sec['label'].value_counts() # andiamo a vedere il n° di dati e tipologia per ogni genere"
   ]
  },
  {
   "cell_type": "code",
   "execution_count": 50,
   "metadata": {},
   "outputs": [
    {
     "name": "stdout",
     "output_type": "stream",
     "text": [
      "Blue\n"
     ]
    },
    {
     "data": {
      "image/png": "[encoded data removed]",
      "text/plain": [
       "<Figure size 1400x200 with 1 Axes>"
      ]
     },
     "metadata": {},
     "output_type": "display_data"
    }
   ],
   "source": [
    "#Stampo la struttura del file audio medio del genere BLUES\n",
    "path = 'Data/genres_original/blues/blues.00000.wav' \n",
    "plt.figure(figsize=(14, 2)) \n",
    "x, sr = librosa.load(path) \n",
    "librosa.display.waveshow(x, sr=sr) \n",
    "  \n",
    "print(\"Blue\")"
   ]
  },
  {
   "cell_type": "markdown",
   "metadata": {},
   "source": []
  },
  {
   "cell_type": "code",
   "execution_count": 51,
   "metadata": {},
   "outputs": [],
   "source": [
    "from sklearn import preprocessing \n",
    "label_encoder = preprocessing.LabelEncoder() \n",
    "music_data['label'] = label_encoder.fit_transform(music_data['label'])\n",
    "\n",
    "music_data_3sec['label'] = label_encoder.fit_transform(music_data_3sec['label'])"
   ]
  },
  {
   "cell_type": "code",
   "execution_count": 52,
   "metadata": {},
   "outputs": [],
   "source": [
    "X = music_data.drop(['label','filename'],axis=1) \n",
    "y = music_data['label']\n",
    "\n",
    "X_3sec = music_data_3sec.drop(['label','filename'],axis=1) \n",
    "y_3sec = music_data_3sec['label']"
   ]
  },
  {
   "cell_type": "code",
   "execution_count": 53,
   "metadata": {},
   "outputs": [
    {
     "name": "stdout",
     "output_type": "stream",
     "text": [
      "Standardized Data:\n",
      " [[-0.13282213 -0.35013678  0.31258717 ... -0.30059734  0.60406407\n",
      "  -0.51298758]\n",
      " [-0.13282213 -0.46248155  1.11757233 ... -0.40708699  0.42412706\n",
      "  -0.53842129]\n",
      " [-0.13282213 -0.18422456 -0.13770124 ... -0.52729705 -0.29618888\n",
      "  -0.8749539 ]\n",
      " ...\n",
      " [-0.13282213  0.65463736 -1.43198917 ... -0.63865065 -0.26361549\n",
      "  -0.89060474]\n",
      " [-0.13282213 -0.19833855  0.66814351 ... -0.5114848  -0.65064889\n",
      "  -0.63768256]\n",
      " [-0.13282213 -0.2483391  -0.05894495 ...  0.16033426  0.5868411\n",
      "  -0.4526752 ]]\n",
      "Robust Scaled Data:\n",
      " [[ 0.         -0.28406716  0.23911547 ... -0.06393215  0.50999105\n",
      "  -0.28486901]\n",
      " [ 0.         -0.36289952  0.93389623 ... -0.17111348  0.36259004\n",
      "  -0.3116059 ]\n",
      " [ 0.         -0.16764649 -0.14952738 ... -0.29210434 -0.22747925\n",
      "  -0.66538193]\n",
      " ...\n",
      " [ 0.          0.42098323 -1.26662419 ... -0.40418121 -0.20079574\n",
      "  -0.68183469]\n",
      " [ 0.         -0.17755028  0.54599529 ... -0.27618938 -0.51784622\n",
      "  -0.41595316]\n",
      " [ 0.         -0.21263568 -0.08155302 ...  0.39999329  0.49588231\n",
      "  -0.22146632]]\n",
      "MaxAbs Scaled Data:\n",
      " [[ 0.97926334  0.52749165  0.82097284 ...  0.14005149  0.06128014\n",
      "   0.09274702]\n",
      " [ 0.97926334  0.51366803  0.87854015 ...  0.12998762  0.0266546\n",
      "   0.09047507]\n",
      " [ 0.97926334  0.54790656  0.78877113 ...  0.11862708 -0.11195682\n",
      "   0.06041322]\n",
      " ...\n",
      " [ 0.97926334  0.65112551  0.69621206 ...  0.10810354 -0.10568867\n",
      "   0.05901516]\n",
      " [ 0.97926334  0.54616988  0.84639992 ...  0.12012143 -0.18016606\n",
      "   0.08160824]\n",
      " [ 0.97926334  0.54001749  0.79440327 ...  0.18361214  0.0579659\n",
      "   0.09813462]]\n",
      "Quantile Transformed Data:\n",
      " [[0.63313313 0.35035035 0.61461461 ... 0.45945946 0.73773774 0.33233233]\n",
      " [0.63313313 0.31531532 0.88488488 ... 0.40540541 0.68968969 0.31031031]\n",
      " [0.63313313 0.3963964  0.42142142 ... 0.33133133 0.37237237 0.07807808]\n",
      " ...\n",
      " [0.63313313 0.72972973 0.07707708 ... 0.26126126 0.38938939 0.06906907]\n",
      " [0.63313313 0.39439439 0.76176176 ... 0.34534535 0.23023023 0.23023023]\n",
      " [0.63313313 0.37937938 0.45445445 ... 0.67767768 0.73473473 0.37037037]]\n"
     ]
    }
   ],
   "source": [
    "from sklearn.preprocessing import StandardScaler, RobustScaler, MaxAbsScaler, QuantileTransformer, PowerTransformer\n",
    "\n",
    "# Creazione di un DataFrame di esempio\n",
    "\n",
    "\n",
    "# Standardizzazione\n",
    "scaler = StandardScaler()\n",
    "data_standardized = scaler.fit_transform(X)\n",
    "\n",
    "# Robust Scaler\n",
    "robust_scaler = RobustScaler()\n",
    "data_robust_scaled = robust_scaler.fit_transform(X)\n",
    "\n",
    "# MaxAbs Scaler\n",
    "max_abs_scaler = MaxAbsScaler()\n",
    "data_max_abs_scaled = max_abs_scaler.fit_transform(X)\n",
    "\n",
    "# Quantile Transformation\n",
    "quantile_transformer = QuantileTransformer(output_distribution='uniform')\n",
    "data_quantile_scaled = quantile_transformer.fit_transform(X)\n",
    "\n",
    "\n",
    "print(\"Standardized Data:\\n\", data_standardized)\n",
    "print(\"Robust Scaled Data:\\n\", data_robust_scaled)\n",
    "print(\"MaxAbs Scaled Data:\\n\", data_max_abs_scaled)\n",
    "print(\"Quantile Transformed Data:\\n\", data_quantile_scaled)\n",
    "\n"
   ]
  },
  {
   "cell_type": "code",
   "execution_count": 54,
   "metadata": {},
   "outputs": [],
   "source": [
    "# è la soluzione migliore visto che abbiamo dei dati ben distribuiti\n",
    "standard_scaler = StandardScaler()\n",
    "X_standardized = standard_scaler.fit_transform(X)\n",
    "X_standardized_3sec = standard_scaler.fit_transform(X_3sec)"
   ]
  },
  {
   "cell_type": "code",
   "execution_count": 55,
   "metadata": {},
   "outputs": [
    {
     "data": {
      "text/plain": [
       "((6993, 58), (2997, 58), (6993,), (2997,))"
      ]
     },
     "execution_count": 55,
     "metadata": {},
     "output_type": "execute_result"
    }
   ],
   "source": [
    "\n",
    "#Effettuo l'operazione di split del data set\n",
    "from sklearn.model_selection import train_test_split\n",
    "\n",
    "X_train, X_test, y_train, y_test = train_test_split(X_standardized, y, test_size=0.3, random_state=42)\n",
    "X_train.shape, X_test.shape, y_train.shape, y_test.shape\n",
    "X_train_3sec, X_test_3sec, y_train_3sec, y_test_3sec = train_test_split(X_standardized_3sec, y_3sec, test_size=0.3, random_state=42)\n",
    "X_train_3sec.shape, X_test_3sec.shape, y_train_3sec.shape, y_test_3sec.shape\n"
   ]
  },
  {
   "cell_type": "markdown",
   "metadata": {},
   "source": [
    "<H2> KNN\n"
   ]
  },
  {
   "cell_type": "markdown",
   "metadata": {},
   "source": [
    "<h3> Definizione della scelta del k Tramite Grid_Search"
   ]
  },
  {
   "cell_type": "code",
   "execution_count": 56,
   "metadata": {},
   "outputs": [
    {
     "name": "stdout",
     "output_type": "stream",
     "text": [
      "Miglior valore di K: {'n_neighbors': 1}\n",
      "Accuracy con il miglior K: 0.6628571428571429\n",
      "Miglior valore di K: {'n_neighbors': 1}\n",
      "Accuracy con il miglior K: 0.8897444628853023\n"
     ]
    }
   ],
   "source": [
    "from sklearn.model_selection import GridSearchCV\n",
    "from sklearn.neighbors import KNeighborsClassifier\n",
    "\n",
    "# Definire i possibili valori di K\n",
    "param_grid = {'n_neighbors': list(range(1, 30))}\n",
    "\n",
    "# Usare GridSearchCV per trovare il valore ottimale\n",
    "grid_search = GridSearchCV(KNeighborsClassifier(), param_grid, cv=5, scoring='accuracy')\n",
    "grid_search.fit(X_train, y_train)\n",
    "\n",
    "grid_search_3sec = GridSearchCV(KNeighborsClassifier(), param_grid, cv=5, scoring='accuracy')\n",
    "grid_search_3sec.fit(X_train_3sec, y_train_3sec)\n",
    "\n",
    "# Miglior valore di K\n",
    "print(f\"Miglior valore di K: {grid_search.best_params_}\")\n",
    "print(f\"Accuracy con il miglior K: {grid_search.best_score_}\")\n",
    "\n",
    "# Miglior valore di K 3 sec\n",
    "print(f\"Miglior valore di K: {grid_search_3sec.best_params_}\")\n",
    "print(f\"Accuracy con il miglior K: {grid_search_3sec.best_score_}\")"
   ]
  },
  {
   "cell_type": "markdown",
   "metadata": {},
   "source": [
    "Implemento KNN"
   ]
  },
  {
   "cell_type": "code",
   "execution_count": 57,
   "metadata": {},
   "outputs": [
    {
     "name": "stdout",
     "output_type": "stream",
     "text": [
      " -------------DATASET 30 SEC ----------------\n",
      "KNN Accuracy: 0.68\n",
      "Precision: 0.6912\n",
      "Recall: 0.6800\n",
      "F1-Score: 0.6820\n",
      " -------------DATASET 3 SEC ----------------\n",
      "KNN Accuracy: 0.8064731398064732\n",
      "Precision 3: 0.8099\n",
      "Recall 3: 0.8065\n",
      "F1-Score 3: 0.8072\n"
     ]
    }
   ],
   "source": [
    "from sklearn.neighbors import KNeighborsClassifier\n",
    "from sklearn.metrics import accuracy_score\n",
    "from sklearn.metrics import accuracy_score, precision_score, recall_score, f1_score, confusion_matrix, classification_report\n",
    "from sklearn.model_selection import StratifiedKFold, cross_val_score\n",
    "\n",
    "# Inizializzare il modello KNN\n",
    "knn = KNeighborsClassifier(n_neighbors=1)\n",
    "knn_3sec = KNeighborsClassifier(n_neighbors=1)\n",
    "\n",
    "# Addestrare il modello\n",
    "knn_3sec.fit(X_train, y_train)\n",
    "knn.fit(X_train, y_train)\n",
    "\n",
    "\n",
    "\n",
    "\n",
    "# PROVO A IMPLEMENTARE E FARE MIGLIORAMENTI CON K-FOLD CROSS VALIDATION\n",
    "# Implementiamo la K-Fold Cross-Validation con StratifiedKFold per preservare le proporzioni delle classi\n",
    "#kf = StratifiedKFold(n_splits=5, shuffle=True, random_state=42)  # 5-fold cross-validation\n",
    "#kf_ = StratifiedKFold(n_splits=5, shuffle=True, random_state=42)\n",
    "\n",
    "\n",
    "# Fare previsioni sul set di test\n",
    "y_pred = knn.predict(X_test)\n",
    "y_pred_3sec = knn_3sec.predict(X_test_3sec)\n",
    "\n",
    "\n",
    "\n",
    "# Valutare l'accuratezza\n",
    "accuracy_knn = accuracy_score(y_test, y_pred)\n",
    "#print(f\"KNN Accuracy: {accuracy_knn}\")\n",
    "\n",
    "accuracy_knn_3sec = accuracy_score(y_test_3sec, y_pred_3sec)\n",
    "#print(f\"KNN Accuracy: {accuracy_knn_3sec}\")\n",
    "\n",
    "# Calcoliamo le score di cross-validation (Accuracy)\n",
    "#cv_scores = cross_val_score(knn, X_train_3sec, y_train_3sec, cv=kf, scoring='accuracy')  #-------------\n",
    "#cv_scores_ = cross_val_score(knn, X_train, y_train, cv=kf_, scoring='accuracy')  #-------------\n",
    "\n",
    "# Precision, Recall, F1-Score per classificazione multiclasse\n",
    "precision = precision_score(y_test, y_pred, average='weighted')\n",
    "recall = recall_score(y_test, y_pred, average='weighted')\n",
    "f1 = f1_score(y_test, y_pred, average='weighted')\n",
    "\n",
    "precision_3sec = precision_score(y_test_3sec, y_pred_3sec, average='weighted')\n",
    "recall_3sec = recall_score(y_test_3sec, y_pred_3sec, average='weighted')\n",
    "f1_3sec = f1_score(y_test_3sec, y_pred_3sec, average='weighted')\n",
    "\n",
    "print(\" -------------DATASET 30 SEC ----------------\")\n",
    "print(f\"KNN Accuracy: {accuracy_knn}\")\n",
    "print(f\"Precision: {precision:.4f}\")\n",
    "print(f\"Recall: {recall:.4f}\")\n",
    "print(f\"F1-Score: {f1:.4f}\")\n",
    "print(\" -------------DATASET 3 SEC ----------------\")\n",
    "print(f\"KNN Accuracy: {accuracy_knn_3sec}\")\n",
    "print(f\"Precision 3: {precision_3sec:.4f}\")\n",
    "print(f\"Recall 3: {recall_3sec:.4f}\")\n",
    "print(f\"F1-Score 3: {f1_3sec:.4f}\")\n",
    "\n",
    "\n",
    "\n",
    "#----------------\n",
    "\n",
    "\n",
    "# Confusion Matrix\n",
    "#conf_matrix = confusion_matrix(y_test, y_pred)\n",
    "#print(f\"Confusion Matrix:\\n{conf_matrix}\")\n",
    "\n",
    "# Report dettagliato con Precision, Recall, F1-Score per ciascuna classe\n",
    "\n",
    "#print(\"Classification Report:\\n\", classification_report(y_test, y_pred))\n"
   ]
  },
  {
   "cell_type": "markdown",
   "metadata": {},
   "source": [
    "Porvo a Migliorare KNN con K-fold"
   ]
  },
  {
   "cell_type": "code",
   "execution_count": 58,
   "metadata": {},
   "outputs": [
    {
     "name": "stdout",
     "output_type": "stream",
     "text": [
      " -------------DATASET 30 SEC ----------------\n",
      "K-Fold Cross-Validation Accuracy Scores: [0.90207291 0.89706934 0.89063617 0.88483548 0.88340486]\n",
      "Mean Accuracy: 0.8916037512999783\n",
      "Standard Deviation: 0.007119597592449979\n",
      " -------------DATASET 3 SEC ----------------\n",
      "K-Fold Cross-Validation Accuracy Scores: [0.75714286 0.64285714 0.59285714 0.62142857 0.67142857]\n",
      "Mean Accuracy: 0.6571428571428571\n",
      "Standard Deviation: 0.056242913385798635\n"
     ]
    }
   ],
   "source": [
    "# PROVO A IMPLEMENTARE E FARE MIGLIORAMENTI CON K-FOLD CROSS VALIDATION\n",
    "# Implementiamo la K-Fold Cross-Validation con StratifiedKFold per preservare le proporzioni delle classi\n",
    "kf = StratifiedKFold(n_splits=5, shuffle=True, random_state=42)  # 5-fold cross-validation\n",
    "kf_ = StratifiedKFold(n_splits=5, shuffle=True, random_state=42)\n",
    "\n",
    "# Calcoliamo le score di cross-validation (Accuracy)\n",
    "cv_scores = cross_val_score(knn, X_train_3sec, y_train_3sec, cv=kf, scoring='accuracy')  #-------------\n",
    "cv_scores_ = cross_val_score(knn, X_train, y_train, cv=kf_, scoring='accuracy')  #-------------\n",
    "\n",
    "\n",
    "# Stampiamo i risultati\n",
    "print(\" -------------DATASET 30 SEC ----------------\")\n",
    "print(f\"K-Fold Cross-Validation Accuracy Scores: {cv_scores}\")\n",
    "print(f\"Mean Accuracy: {np.mean(cv_scores)}\")\n",
    "print(f\"Standard Deviation: {np.std(cv_scores)}\")\n",
    "\n",
    "print(\" -------------DATASET 3 SEC ----------------\")\n",
    "print(f\"K-Fold Cross-Validation Accuracy Scores: {cv_scores_}\")\n",
    "print(f\"Mean Accuracy: {np.mean(cv_scores_)}\")\n",
    "print(f\"Standard Deviation: {np.std(cv_scores_)}\")"
   ]
  },
  {
   "cell_type": "markdown",
   "metadata": {},
   "source": []
  },
  {
   "cell_type": "markdown",
   "metadata": {},
   "source": [
    "<H1>RANDOM FOREST"
   ]
  },
  {
   "cell_type": "code",
   "execution_count": 59,
   "metadata": {},
   "outputs": [
    {
     "name": "stdout",
     "output_type": "stream",
     "text": [
      " -------------DATASET 30 SEC ----------------\n",
      "RandomForestClassifier 0.7366666666666667\n",
      "RandomForestClassifier 0.7498736327287332\n",
      "XGBClassifier 0.7366666666666667\n",
      "XGBClassifier 0.7416375837112141\n",
      "CatBoostClassifier 0.7933333333333333\n",
      "CatBoostClassifier 0.801400178512603\n",
      " -------------DATASET 3 SEC ----------------\n",
      "RandomForestClassifier 0.8131464798131465\n",
      "RandomForestClassifier 0.8144316587493936\n",
      "XGBClassifier 0.9069069069069069\n",
      "XGBClassifier 0.9067813786795493\n",
      "CatBoostClassifier 0.9099099099099099\n",
      "CatBoostClassifier 0.9095304623348828\n"
     ]
    }
   ],
   "source": [
    "import time\n",
    "import catboost as cb \n",
    "from xgboost import XGBClassifier \n",
    "from sklearn.ensemble import RandomForestClassifier\n",
    "\n",
    "rf = RandomForestClassifier(n_estimators=1000, max_depth=10, random_state=0) \n",
    "cbc = cb.CatBoostClassifier(verbose=0, eval_metric='Accuracy', loss_function='MultiClass') \n",
    "xgb = XGBClassifier(n_estimators=1000, learning_rate=0.05) \n",
    "\n",
    "\n",
    "print(\" -------------DATASET 30 SEC ----------------\")\n",
    "\n",
    "for clf in (rf, xgb, cbc): \n",
    "    start = time.time() \n",
    "    clf.fit(X_train, y_train) \n",
    "    preds = clf.predict(X_test) \n",
    "    end = time.time()\n",
    "\n",
    "    print(clf.__class__.__name__,accuracy_score(y_test, preds))\n",
    "    print(clf.__class__.__name__,precision_score(y_test, preds, average='macro'))\n",
    "    #print(f\"Random Forest Accuracy: {accuracy_score}\")\n",
    "    #print(\"Classification Report:\\n\", classification_report(y_test, preds))\n",
    "\n",
    "\n",
    "print(\" -------------DATASET 3 SEC ----------------\")\n",
    "\n",
    "for clf in (rf, xgb, cbc): \n",
    "    start = time.time() \n",
    "    clf.fit(X_train_3sec, y_train_3sec) \n",
    "    preds_3sec = clf.predict(X_test_3sec) \n",
    "    end = time.time()\n",
    "\n",
    "    print(clf.__class__.__name__,accuracy_score(y_test_3sec, preds_3sec))\n",
    "    print(clf.__class__.__name__,precision_score(y_test_3sec, preds_3sec, average='macro'))\n",
    "    "
   ]
  },
  {
   "cell_type": "markdown",
   "metadata": {},
   "source": [
    "Proviamo Ad Applicare la Corss validation "
   ]
  },
  {
   "cell_type": "code",
   "execution_count": 60,
   "metadata": {},
   "outputs": [
    {
     "name": "stdout",
     "output_type": "stream",
     "text": [
      " -------------DATASET 30 SEC ----------------\n",
      "Random Forest CV Accuracy: 0.7685714285714285\n",
      "CatBoost CV Accuracy: 0.8\n",
      "XGBoost CV Accuracy: 0.7542857142857142\n",
      " -------------DATASET 3 SEC ----------------\n",
      "Random Forest CV Accuracy: 0.7953666066401405\n",
      "CatBoost CV Accuracy: 0.8827399706105219\n",
      "XGBoost CV Accuracy: 0.8846000771039195\n"
     ]
    }
   ],
   "source": [
    "from sklearn.model_selection import cross_val_score\n",
    "\n",
    "\n",
    "print(\" -------------DATASET 30 SEC ----------------\")\n",
    "# Cross-validation per RandomForest\n",
    "cv_scores_rf = cross_val_score(rf, X_train, y_train, cv=5, scoring='accuracy')\n",
    "print(f\"Random Forest CV Accuracy: {cv_scores_rf.mean()}\")\n",
    "\n",
    "# Cross-validation per CatBoost\n",
    "cv_scores_catboost = cross_val_score(cbc, X_train, y_train, cv=5, scoring='accuracy')\n",
    "print(f\"CatBoost CV Accuracy: {cv_scores_catboost.mean()}\")\n",
    "\n",
    "# Cross-validation per XGBoost\n",
    "cv_scores_xgb = cross_val_score(xgb, X_train, y_train, cv=5, scoring='accuracy')\n",
    "print(f\"XGBoost CV Accuracy: {cv_scores_xgb.mean()}\")\n",
    "\n",
    "print(\" -------------DATASET 3 SEC ----------------\")\n",
    "# Cross-validation per RandomForest\n",
    "cv_scores_rf = cross_val_score(rf, X_train_3sec, y_train_3sec, cv=5, scoring='accuracy')\n",
    "print(f\"Random Forest CV Accuracy: {cv_scores_rf.mean()}\")\n",
    "\n",
    "# Cross-validation per CatBoost\n",
    "cv_scores_catboost = cross_val_score(cbc, X_train_3sec, y_train_3sec, cv=5, scoring='accuracy')\n",
    "print(f\"CatBoost CV Accuracy: {cv_scores_catboost.mean()}\")\n",
    "\n",
    "# Cross-validation per XGBoost\n",
    "cv_scores_xgb = cross_val_score(xgb, X_train_3sec, y_train_3sec, cv=5, scoring='accuracy')\n",
    "print(f\"XGBoost CV Accuracy: {cv_scores_xgb.mean()}\")"
   ]
  },
  {
   "cell_type": "markdown",
   "metadata": {},
   "source": [
    "<h3>Voglio far vedere tramite dei grafici per far capire i miglioramenti"
   ]
  },
  {
   "cell_type": "code",
   "execution_count": 62,
   "metadata": {},
   "outputs": [
    {
     "name": "stdout",
     "output_type": "stream",
     "text": [
      "Base Model Accuracy: 0.8064731398064732\n",
      "K-Fold Model Accuracy: 0.8916037512999783\n"
     ]
    },
    {
     "data": {
      "image/png": "[encoded data removed]",
      "text/plain": [
       "<Figure size 800x600 with 1 Axes>"
      ]
     },
     "metadata": {},
     "output_type": "display_data"
    }
   ],
   "source": [
    "import seaborn as sns\n",
    "\n",
    "# Calcola l'accuratezza del modello base\n",
    "accuracy_base = accuracy_score(y_test_3sec, y_pred_3sec)\n",
    "print(f\"Base Model Accuracy: {accuracy_base}\")\n",
    "\n",
    "\n",
    "# Media delle accuratezze su tutte le fold\n",
    "accuracy_kfold = cv_scores.mean()\n",
    "print(f\"K-Fold Model Accuracy: {accuracy_kfold}\")\n",
    "\n",
    "\n",
    "# Imposta i valori da visualizzare\n",
    "accuracies = [accuracy_base, accuracy_kfold]\n",
    "labels = ['Base Model', 'K-Fold Model']\n",
    "\n",
    "# Crea un grafico a barre\n",
    "plt.figure(figsize=(8, 6))\n",
    "sns.barplot(x=labels, y=accuracies)\n",
    "\n",
    "# Aggiungi titoli e etichette\n",
    "plt.title('Confronto tra Modello Base e Modello con K-Fold')\n",
    "plt.ylabel('Accuracy')\n",
    "plt.xlabel('Modelli')\n",
    "\n",
    "# Mostra il grafico\n",
    "plt.show()\n"
   ]
  }
 ],
 "metadata": {
  "kernelspec": {
   "display_name": "Python 3",
   "language": "python",
   "name": "python3"
  },
  "language_info": {
   "codemirror_mode": {
    "name": "ipython",
    "version": 3
   },
   "file_extension": ".py",
   "mimetype": "text/x-python",
   "name": "python",
   "nbconvert_exporter": "python",
   "pygments_lexer": "ipython3",
   "version": "3.12.7"
  }
 },
 "nbformat": 4,
 "nbformat_minor": 2
}

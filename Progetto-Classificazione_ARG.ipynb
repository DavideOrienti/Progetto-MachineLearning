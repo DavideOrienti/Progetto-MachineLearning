{
 "cells": [
  {
   "cell_type": "code",
   "execution_count": 40,
   "metadata": {},
   "outputs": [],
   "source": [
    "#importiamo le librerie di base\n",
    "import numpy as np  # type: ignore\n",
    "import pandas as pd \n",
    "import librosa.display  # questa sereve per la rappresentazione grafica e gestione di file audio\n",
    "import matplotlib.pyplot as plt  # serve per calcoli matematic "
   ]
  },
  {
   "cell_type": "code",
   "execution_count": 41,
   "metadata": {},
   "outputs": [
    {
     "name": "stdout",
     "output_type": "stream",
     "text": [
      "          filename  length  chroma_stft_mean  chroma_stft_var  rms_mean  \\\n",
      "0  blues.00000.wav  661794          0.350088         0.088757  0.130228   \n",
      "1  blues.00001.wav  661794          0.340914         0.094980  0.095948   \n",
      "2  blues.00002.wav  661794          0.363637         0.085275  0.175570   \n",
      "3  blues.00003.wav  661794          0.404785         0.093999  0.141093   \n",
      "4  blues.00004.wav  661794          0.308526         0.087841  0.091529   \n",
      "\n",
      "    rms_var  spectral_centroid_mean  spectral_centroid_var  \\\n",
      "0  0.002827             1784.165850          129774.064525   \n",
      "1  0.002373             1530.176679          375850.073649   \n",
      "2  0.002746             1552.811865          156467.643368   \n",
      "3  0.006346             1070.106615          184355.942417   \n",
      "4  0.002303             1835.004266          343399.939274   \n",
      "\n",
      "   spectral_bandwidth_mean  spectral_bandwidth_var  ...  rms_var_noisy  \\\n",
      "0              2002.449060            85882.761315  ...       0.007980   \n",
      "1              2039.036516           213843.755497  ...       0.005808   \n",
      "2              1747.702312            76254.192257  ...      -0.008693   \n",
      "3              1596.412872           166441.494769  ...       0.006767   \n",
      "4              1748.172116            88445.209036  ...       0.004162   \n",
      "\n",
      "   rolloff_mean_noisy  rolloff_var_noisy  spectral_bandwidth_mean_noisy  \\\n",
      "0         3805.829841       9.015054e+05                    2002.461250   \n",
      "1         3550.520985       2.977893e+06                    2039.049321   \n",
      "2         3042.263290       7.840344e+05                    1747.721981   \n",
      "3         2184.740622       1.493194e+06                    1596.410537   \n",
      "4         3579.749837       1.572978e+06                    1748.174771   \n",
      "\n",
      "   spectral_bandwidth_var_noisy  spectral_centroid_mean_noisy  \\\n",
      "0                  85882.745373                   1784.170810   \n",
      "1                 213843.749860                   1530.165997   \n",
      "2                  76254.191042                   1552.809085   \n",
      "3                 166441.479643                   1070.112085   \n",
      "4                  88445.224464                   1835.008038   \n",
      "\n",
      "   spectral_centroid_var_noisy  tempo_noisy  zero_crossing_rate_mean_noisy  \\\n",
      "0                129774.052278   123.046602                       0.090245   \n",
      "1                375850.089670    67.987392                       0.062448   \n",
      "2                156467.646501   161.498667                       0.083165   \n",
      "3                184355.972320    63.027484                       0.054066   \n",
      "4                343399.948631   135.994348                       0.087058   \n",
      "\n",
      "   zero_crossing_rate_var_noisy  \n",
      "0                     -0.007229  \n",
      "1                     -0.001295  \n",
      "2                      0.006474  \n",
      "3                      0.008506  \n",
      "4                      0.009917  \n",
      "\n",
      "[5 rows x 118 columns]\n"
     ]
    }
   ],
   "source": [
    "import pandas as pd\n",
    "import numpy as np\n",
    "\n",
    "# Carica il dataset\n",
    "df = pd.read_csv('Data/features_30_secARG.csv')\n",
    "\n",
    "# Funzione per aggiungere rumore\n",
    "def add_noise(data, noise_factor=0.01):\n",
    "    noise = np.random.normal(loc=0.0, scale=noise_factor, size=data.shape)\n",
    "    return data + noise\n",
    "\n",
    "# Aggiungi rumore alle features (escludendo la colonna 'label')\n",
    "augmented_df = df.copy()\n",
    "features = df.columns.difference(['filename', 'label'])\n",
    "\n",
    "for feature in features:\n",
    "    augmented_df[feature + '_noisy'] = add_noise(df[feature])\n",
    "\n",
    "# Ora 'augmented_df' contiene nuove colonne con dati augmentati\n",
    "print(augmented_df.head())"
   ]
  },
  {
   "cell_type": "code",
   "execution_count": 42,
   "metadata": {},
   "outputs": [
    {
     "name": "stdout",
     "output_type": "stream",
     "text": [
      "            filename  length  chroma_stft_mean  chroma_stft_var  rms_mean  \\\n",
      "0  blues.00000.0.wav   66149          0.335406         0.091048  0.130405   \n",
      "1  blues.00000.1.wav   66149          0.343065         0.086147  0.112699   \n",
      "2  blues.00000.2.wav   66149          0.346815         0.092243  0.132003   \n",
      "3  blues.00000.3.wav   66149          0.363639         0.086856  0.132565   \n",
      "4  blues.00000.4.wav   66149          0.335579         0.088129  0.143289   \n",
      "\n",
      "    rms_var  spectral_centroid_mean  spectral_centroid_var  \\\n",
      "0  0.003521             1773.065032          167541.630869   \n",
      "1  0.001450             1816.693777           90525.690866   \n",
      "2  0.004620             1788.539719          111407.437613   \n",
      "3  0.002448             1655.289045          111952.284517   \n",
      "4  0.001701             1630.656199           79667.267654   \n",
      "\n",
      "   spectral_bandwidth_mean  spectral_bandwidth_var  ...  rms_var_noisy  \\\n",
      "0              1972.744388           117335.771563  ...      -0.009372   \n",
      "1              2010.051501            65671.875673  ...       0.007293   \n",
      "2              2084.565132            75124.921716  ...       0.011976   \n",
      "3              1960.039988            82913.639269  ...       0.013833   \n",
      "4              1948.503884            60204.020268  ...      -0.015890   \n",
      "\n",
      "   rolloff_mean_noisy  rolloff_var_noisy  spectral_bandwidth_mean_noisy  \\\n",
      "0         3714.568087       1.080790e+06                    1972.730200   \n",
      "1         3869.697178       6.722448e+05                    2010.037809   \n",
      "2         3997.640925       7.907127e+05                    2084.556176   \n",
      "3         3568.296107       9.216524e+05                    1960.029312   \n",
      "4         3469.993249       6.102111e+05                    1948.486069   \n",
      "\n",
      "   spectral_bandwidth_var_noisy  spectral_centroid_mean_noisy  \\\n",
      "0                 117335.773048                   1773.063540   \n",
      "1                  65671.889449                   1816.685355   \n",
      "2                  75124.934097                   1788.538217   \n",
      "3                  82913.636313                   1655.289503   \n",
      "4                  60204.017594                   1630.664580   \n",
      "\n",
      "   spectral_centroid_var_noisy  tempo_noisy  zero_crossing_rate_mean_noisy  \\\n",
      "0                167541.625012   129.213530                       0.064548   \n",
      "1                 90525.689479   123.054668                       0.085941   \n",
      "2                111407.436124   123.062870                       0.074748   \n",
      "3                111952.278453   123.041635                       0.063861   \n",
      "4                 79667.272818   123.036510                       0.058848   \n",
      "\n",
      "   zero_crossing_rate_var_noisy  \n",
      "0                      0.013987  \n",
      "1                      0.011117  \n",
      "2                      0.005724  \n",
      "3                     -0.005318  \n",
      "4                      0.002021  \n",
      "\n",
      "[5 rows x 118 columns]\n"
     ]
    }
   ],
   "source": [
    "df_3sec = pd.read_csv('Data/features_3_secARG.csv')\n",
    "\n",
    "# Funzione per aggiungere rumore\n",
    "def add_noise(data, noise_factor=0.01):\n",
    "    noise = np.random.normal(loc=0.0, scale=noise_factor, size=data.shape)\n",
    "    return data + noise\n",
    "\n",
    "# Aggiungi rumore alle features (escludendo la colonna 'label')\n",
    "augmented_df_3sec = df_3sec.copy()\n",
    "features = df.columns.difference(['filename', 'label'])\n",
    "\n",
    "for feature in features:\n",
    "    augmented_df_3sec[feature + '_noisy'] = add_noise(df_3sec[feature])\n",
    "\n",
    "# Ora 'augmented_df' contiene nuove colonne con dati augmentati\n",
    "print(augmented_df_3sec.head())"
   ]
  },
  {
   "cell_type": "code",
   "execution_count": 43,
   "metadata": {},
   "outputs": [
    {
     "data": {
      "text/html": [
       "<div>\n",
       "<style scoped>\n",
       "    .dataframe tbody tr th:only-of-type {\n",
       "        vertical-align: middle;\n",
       "    }\n",
       "\n",
       "    .dataframe tbody tr th {\n",
       "        vertical-align: top;\n",
       "    }\n",
       "\n",
       "    .dataframe thead th {\n",
       "        text-align: right;\n",
       "    }\n",
       "</style>\n",
       "<table border=\"1\" class=\"dataframe\">\n",
       "  <thead>\n",
       "    <tr style=\"text-align: right;\">\n",
       "      <th></th>\n",
       "      <th>filename</th>\n",
       "      <th>length</th>\n",
       "      <th>chroma_stft_mean</th>\n",
       "      <th>chroma_stft_var</th>\n",
       "      <th>rms_mean</th>\n",
       "      <th>rms_var</th>\n",
       "      <th>spectral_centroid_mean</th>\n",
       "      <th>spectral_centroid_var</th>\n",
       "      <th>spectral_bandwidth_mean</th>\n",
       "      <th>spectral_bandwidth_var</th>\n",
       "      <th>...</th>\n",
       "      <th>rms_var_noisy</th>\n",
       "      <th>rolloff_mean_noisy</th>\n",
       "      <th>rolloff_var_noisy</th>\n",
       "      <th>spectral_bandwidth_mean_noisy</th>\n",
       "      <th>spectral_bandwidth_var_noisy</th>\n",
       "      <th>spectral_centroid_mean_noisy</th>\n",
       "      <th>spectral_centroid_var_noisy</th>\n",
       "      <th>tempo_noisy</th>\n",
       "      <th>zero_crossing_rate_mean_noisy</th>\n",
       "      <th>zero_crossing_rate_var_noisy</th>\n",
       "    </tr>\n",
       "  </thead>\n",
       "  <tbody>\n",
       "    <tr>\n",
       "      <th>0</th>\n",
       "      <td>blues.00000.wav</td>\n",
       "      <td>661794</td>\n",
       "      <td>0.350088</td>\n",
       "      <td>0.088757</td>\n",
       "      <td>0.130228</td>\n",
       "      <td>0.002827</td>\n",
       "      <td>1784.165850</td>\n",
       "      <td>129774.064525</td>\n",
       "      <td>2002.449060</td>\n",
       "      <td>85882.761315</td>\n",
       "      <td>...</td>\n",
       "      <td>0.007980</td>\n",
       "      <td>3805.829841</td>\n",
       "      <td>9.015054e+05</td>\n",
       "      <td>2002.461250</td>\n",
       "      <td>85882.745373</td>\n",
       "      <td>1784.170810</td>\n",
       "      <td>129774.052278</td>\n",
       "      <td>123.046602</td>\n",
       "      <td>0.090245</td>\n",
       "      <td>-0.007229</td>\n",
       "    </tr>\n",
       "    <tr>\n",
       "      <th>1</th>\n",
       "      <td>blues.00001.wav</td>\n",
       "      <td>661794</td>\n",
       "      <td>0.340914</td>\n",
       "      <td>0.094980</td>\n",
       "      <td>0.095948</td>\n",
       "      <td>0.002373</td>\n",
       "      <td>1530.176679</td>\n",
       "      <td>375850.073649</td>\n",
       "      <td>2039.036516</td>\n",
       "      <td>213843.755497</td>\n",
       "      <td>...</td>\n",
       "      <td>0.005808</td>\n",
       "      <td>3550.520985</td>\n",
       "      <td>2.977893e+06</td>\n",
       "      <td>2039.049321</td>\n",
       "      <td>213843.749860</td>\n",
       "      <td>1530.165997</td>\n",
       "      <td>375850.089670</td>\n",
       "      <td>67.987392</td>\n",
       "      <td>0.062448</td>\n",
       "      <td>-0.001295</td>\n",
       "    </tr>\n",
       "    <tr>\n",
       "      <th>2</th>\n",
       "      <td>blues.00002.wav</td>\n",
       "      <td>661794</td>\n",
       "      <td>0.363637</td>\n",
       "      <td>0.085275</td>\n",
       "      <td>0.175570</td>\n",
       "      <td>0.002746</td>\n",
       "      <td>1552.811865</td>\n",
       "      <td>156467.643368</td>\n",
       "      <td>1747.702312</td>\n",
       "      <td>76254.192257</td>\n",
       "      <td>...</td>\n",
       "      <td>-0.008693</td>\n",
       "      <td>3042.263290</td>\n",
       "      <td>7.840344e+05</td>\n",
       "      <td>1747.721981</td>\n",
       "      <td>76254.191042</td>\n",
       "      <td>1552.809085</td>\n",
       "      <td>156467.646501</td>\n",
       "      <td>161.498667</td>\n",
       "      <td>0.083165</td>\n",
       "      <td>0.006474</td>\n",
       "    </tr>\n",
       "    <tr>\n",
       "      <th>3</th>\n",
       "      <td>blues.00003.wav</td>\n",
       "      <td>661794</td>\n",
       "      <td>0.404785</td>\n",
       "      <td>0.093999</td>\n",
       "      <td>0.141093</td>\n",
       "      <td>0.006346</td>\n",
       "      <td>1070.106615</td>\n",
       "      <td>184355.942417</td>\n",
       "      <td>1596.412872</td>\n",
       "      <td>166441.494769</td>\n",
       "      <td>...</td>\n",
       "      <td>0.006767</td>\n",
       "      <td>2184.740622</td>\n",
       "      <td>1.493194e+06</td>\n",
       "      <td>1596.410537</td>\n",
       "      <td>166441.479643</td>\n",
       "      <td>1070.112085</td>\n",
       "      <td>184355.972320</td>\n",
       "      <td>63.027484</td>\n",
       "      <td>0.054066</td>\n",
       "      <td>0.008506</td>\n",
       "    </tr>\n",
       "    <tr>\n",
       "      <th>4</th>\n",
       "      <td>blues.00004.wav</td>\n",
       "      <td>661794</td>\n",
       "      <td>0.308526</td>\n",
       "      <td>0.087841</td>\n",
       "      <td>0.091529</td>\n",
       "      <td>0.002303</td>\n",
       "      <td>1835.004266</td>\n",
       "      <td>343399.939274</td>\n",
       "      <td>1748.172116</td>\n",
       "      <td>88445.209036</td>\n",
       "      <td>...</td>\n",
       "      <td>0.004162</td>\n",
       "      <td>3579.749837</td>\n",
       "      <td>1.572978e+06</td>\n",
       "      <td>1748.174771</td>\n",
       "      <td>88445.224464</td>\n",
       "      <td>1835.008038</td>\n",
       "      <td>343399.948631</td>\n",
       "      <td>135.994348</td>\n",
       "      <td>0.087058</td>\n",
       "      <td>0.009917</td>\n",
       "    </tr>\n",
       "  </tbody>\n",
       "</table>\n",
       "<p>5 rows × 118 columns</p>\n",
       "</div>"
      ],
      "text/plain": [
       "          filename  length  chroma_stft_mean  chroma_stft_var  rms_mean  \\\n",
       "0  blues.00000.wav  661794          0.350088         0.088757  0.130228   \n",
       "1  blues.00001.wav  661794          0.340914         0.094980  0.095948   \n",
       "2  blues.00002.wav  661794          0.363637         0.085275  0.175570   \n",
       "3  blues.00003.wav  661794          0.404785         0.093999  0.141093   \n",
       "4  blues.00004.wav  661794          0.308526         0.087841  0.091529   \n",
       "\n",
       "    rms_var  spectral_centroid_mean  spectral_centroid_var  \\\n",
       "0  0.002827             1784.165850          129774.064525   \n",
       "1  0.002373             1530.176679          375850.073649   \n",
       "2  0.002746             1552.811865          156467.643368   \n",
       "3  0.006346             1070.106615          184355.942417   \n",
       "4  0.002303             1835.004266          343399.939274   \n",
       "\n",
       "   spectral_bandwidth_mean  spectral_bandwidth_var  ...  rms_var_noisy  \\\n",
       "0              2002.449060            85882.761315  ...       0.007980   \n",
       "1              2039.036516           213843.755497  ...       0.005808   \n",
       "2              1747.702312            76254.192257  ...      -0.008693   \n",
       "3              1596.412872           166441.494769  ...       0.006767   \n",
       "4              1748.172116            88445.209036  ...       0.004162   \n",
       "\n",
       "   rolloff_mean_noisy  rolloff_var_noisy  spectral_bandwidth_mean_noisy  \\\n",
       "0         3805.829841       9.015054e+05                    2002.461250   \n",
       "1         3550.520985       2.977893e+06                    2039.049321   \n",
       "2         3042.263290       7.840344e+05                    1747.721981   \n",
       "3         2184.740622       1.493194e+06                    1596.410537   \n",
       "4         3579.749837       1.572978e+06                    1748.174771   \n",
       "\n",
       "   spectral_bandwidth_var_noisy  spectral_centroid_mean_noisy  \\\n",
       "0                  85882.745373                   1784.170810   \n",
       "1                 213843.749860                   1530.165997   \n",
       "2                  76254.191042                   1552.809085   \n",
       "3                 166441.479643                   1070.112085   \n",
       "4                  88445.224464                   1835.008038   \n",
       "\n",
       "   spectral_centroid_var_noisy  tempo_noisy  zero_crossing_rate_mean_noisy  \\\n",
       "0                129774.052278   123.046602                       0.090245   \n",
       "1                375850.089670    67.987392                       0.062448   \n",
       "2                156467.646501   161.498667                       0.083165   \n",
       "3                184355.972320    63.027484                       0.054066   \n",
       "4                343399.948631   135.994348                       0.087058   \n",
       "\n",
       "   zero_crossing_rate_var_noisy  \n",
       "0                     -0.007229  \n",
       "1                     -0.001295  \n",
       "2                      0.006474  \n",
       "3                      0.008506  \n",
       "4                      0.009917  \n",
       "\n",
       "[5 rows x 118 columns]"
      ]
     },
     "execution_count": 43,
     "metadata": {},
     "output_type": "execute_result"
    }
   ],
   "source": [
    "#importiamo il dataset\n",
    "#augmented_df = pd.read_csv('Data/features_30_sec.csv') \n",
    "#augmented_df_3sec = pd.read_csv('Data/features_3_sec.csv') \n",
    "\n",
    "#augmented_df_3sec.head(5) #per vedere le prime 5 colonne del dataset\n",
    "augmented_df.head(5) #per vedere le prime 5 colonne del dataset\n"
   ]
  },
  {
   "cell_type": "code",
   "execution_count": 44,
   "metadata": {},
   "outputs": [
    {
     "data": {
      "text/plain": [
       "label\n",
       "blues        100\n",
       "classical    100\n",
       "country      100\n",
       "disco        100\n",
       "hiphop       100\n",
       "jazz         100\n",
       "metal        100\n",
       "pop          100\n",
       "reggae       100\n",
       "rock         100\n",
       "Name: count, dtype: int64"
      ]
     },
     "execution_count": 44,
     "metadata": {},
     "output_type": "execute_result"
    }
   ],
   "source": [
    "augmented_df['label'].value_counts() # andiamo a vedere il n° di dati e tipologia per ogni genere"
   ]
  },
  {
   "cell_type": "code",
   "execution_count": 45,
   "metadata": {},
   "outputs": [
    {
     "data": {
      "text/plain": [
       "label\n",
       "blues        1000\n",
       "jazz         1000\n",
       "metal        1000\n",
       "pop          1000\n",
       "reggae       1000\n",
       "disco         999\n",
       "classical     998\n",
       "hiphop        998\n",
       "rock          998\n",
       "country       997\n",
       "Name: count, dtype: int64"
      ]
     },
     "execution_count": 45,
     "metadata": {},
     "output_type": "execute_result"
    }
   ],
   "source": [
    "augmented_df_3sec['label'].value_counts() # andiamo a vedere il n° di dati e tipologia per ogni genere"
   ]
  },
  {
   "cell_type": "code",
   "execution_count": 46,
   "metadata": {},
   "outputs": [
    {
     "name": "stdout",
     "output_type": "stream",
     "text": [
      "Blue\n"
     ]
    },
    {
     "data": {
      "image/png": "[encoded data removed]",
      "text/plain": [
       "<Figure size 1400x200 with 1 Axes>"
      ]
     },
     "metadata": {},
     "output_type": "display_data"
    }
   ],
   "source": [
    "#Stampo la struttura del file audio medio del genere BLUES\n",
    "path = 'Data/genres_original/blues/blues.00000.wav' \n",
    "plt.figure(figsize=(14, 2)) \n",
    "x, sr = librosa.load(path) \n",
    "librosa.display.waveshow(x, sr=sr) \n",
    "  \n",
    "print(\"Blue\")"
   ]
  },
  {
   "cell_type": "markdown",
   "metadata": {},
   "source": []
  },
  {
   "cell_type": "code",
   "execution_count": 47,
   "metadata": {},
   "outputs": [],
   "source": [
    "from sklearn import preprocessing \n",
    "label_encoder = preprocessing.LabelEncoder() \n",
    "augmented_df['label'] = label_encoder.fit_transform(augmented_df['label'])\n",
    "\n",
    "augmented_df_3sec['label'] = label_encoder.fit_transform(augmented_df_3sec['label'])"
   ]
  },
  {
   "cell_type": "code",
   "execution_count": 48,
   "metadata": {},
   "outputs": [],
   "source": [
    "X = augmented_df.drop(['label','filename'],axis=1) \n",
    "y = augmented_df['label']\n",
    "\n",
    "X_3sec = augmented_df_3sec.drop(['label','filename'],axis=1) \n",
    "y_3sec = augmented_df_3sec['label']"
   ]
  },
  {
   "cell_type": "code",
   "execution_count": 49,
   "metadata": {},
   "outputs": [
    {
     "name": "stdout",
     "output_type": "stream",
     "text": [
      "Standardized Data:\n",
      " [[-0.13282213 -0.35013678  0.31258717 ...  0.12536184 -0.30910449\n",
      "  -0.90711708]\n",
      " [-0.13282213 -0.46248155  1.11757233 ... -1.82362181 -0.95386017\n",
      "  -0.34453453]\n",
      " [-0.13282213 -0.18422456 -0.13770124 ...  1.48648644 -0.47332236\n",
      "   0.39194572]\n",
      " ...\n",
      " [-0.13282213  0.65463736 -1.43198917 ...  0.3425752   0.17223495\n",
      "  -2.29283632]\n",
      " [-0.13282213 -0.19833855  0.66814351 ... -1.61666163 -1.2636107\n",
      "  -2.05433141]\n",
      " [-0.13282213 -0.2483391  -0.05894495 ...  0.12501929 -0.03907878\n",
      "   0.5414176 ]]\n",
      "Robust Scaled Data:\n",
      " [[ 0.         -0.28406716  0.23911547 ...  0.15290147 -0.13651595\n",
      "  -0.66370754]\n",
      " [ 0.         -0.36289952  0.93389623 ... -1.35095589 -0.57313449\n",
      "  -0.24074096]\n",
      " [ 0.         -0.16764649 -0.14952738 ...  1.20316027 -0.24772174\n",
      "   0.31296717]\n",
      " ...\n",
      " [ 0.          0.42098323 -1.26662419 ...  0.3205057   0.18943965\n",
      "  -1.70553317]\n",
      " [ 0.         -0.17755028  0.54599529 ... -1.19126312 -0.78289274\n",
      "  -1.52621796]\n",
      " [ 0.         -0.21263568 -0.08155302 ...  0.15263715  0.04634127\n",
      "   0.42534464]]\n",
      "MaxAbs Scaled Data:\n",
      " [[ 0.97926334  0.52749165  0.82097284 ...  0.52378547  0.32779833\n",
      "  -0.19630168]\n",
      " [ 0.97926334  0.51366803  0.87854015 ...  0.28940911  0.22683176\n",
      "  -0.03516121]\n",
      " [ 0.97926334  0.54790656  0.78877113 ...  0.68746843  0.30208236\n",
      "   0.17578876]\n",
      " ...\n",
      " [ 0.97926334  0.65112551  0.69621206 ...  0.54990661  0.40317446\n",
      "  -0.59321311]\n",
      " [ 0.97926334  0.54616988  0.84639992 ...  0.31429725  0.17832587\n",
      "  -0.52489817]\n",
      " [ 0.97926334  0.54001749  0.79440327 ...  0.52374427  0.37008344\n",
      "   0.21860197]]\n",
      "Quantile Transformed Data:\n",
      " [[0.63313313 0.35035035 0.61461461 ... 0.6036036  0.42142142 0.18018018]\n",
      " [0.63313313 0.31531532 0.88488488 ... 0.01601602 0.18318318 0.35935936]\n",
      " [0.63313313 0.3963964  0.42142142 ... 0.91591592 0.35735736 0.65465465]\n",
      " ...\n",
      " [0.63313313 0.72972973 0.07707708 ... 0.65265265 0.58558559 0.00800801]\n",
      " [0.63313313 0.39439439 0.76176176 ... 0.03503504 0.08308308 0.02202202]\n",
      " [0.63313313 0.37937938 0.45445445 ... 0.56756757 0.52152152 0.6976977 ]]\n"
     ]
    }
   ],
   "source": [
    "from sklearn.preprocessing import StandardScaler, RobustScaler, MaxAbsScaler, QuantileTransformer, PowerTransformer\n",
    "\n",
    "# Creazione di un DataFrame di esempio\n",
    "\n",
    "\n",
    "# Standardizzazione\n",
    "scaler = StandardScaler()\n",
    "data_standardized = scaler.fit_transform(X)\n",
    "\n",
    "# Robust Scaler\n",
    "robust_scaler = RobustScaler()\n",
    "data_robust_scaled = robust_scaler.fit_transform(X)\n",
    "\n",
    "# MaxAbs Scaler\n",
    "max_abs_scaler = MaxAbsScaler()\n",
    "data_max_abs_scaled = max_abs_scaler.fit_transform(X)\n",
    "\n",
    "# Quantile Transformation\n",
    "quantile_transformer = QuantileTransformer(output_distribution='uniform')\n",
    "data_quantile_scaled = quantile_transformer.fit_transform(X)\n",
    "\n",
    "\n",
    "print(\"Standardized Data:\\n\", data_standardized)\n",
    "print(\"Robust Scaled Data:\\n\", data_robust_scaled)\n",
    "print(\"MaxAbs Scaled Data:\\n\", data_max_abs_scaled)\n",
    "print(\"Quantile Transformed Data:\\n\", data_quantile_scaled)\n",
    "\n"
   ]
  },
  {
   "cell_type": "code",
   "execution_count": 50,
   "metadata": {},
   "outputs": [],
   "source": [
    "# è la soluzione migliore visto che abbiamo dei dati ben distribuiti\n",
    "standard_scaler = StandardScaler()\n",
    "X_standardized = standard_scaler.fit_transform(X)\n",
    "X_standardized_3sec = standard_scaler.fit_transform(X_3sec)"
   ]
  },
  {
   "cell_type": "code",
   "execution_count": 51,
   "metadata": {},
   "outputs": [
    {
     "data": {
      "text/plain": [
       "((700, 116), (300, 116), (700,), (300,))"
      ]
     },
     "execution_count": 51,
     "metadata": {},
     "output_type": "execute_result"
    }
   ],
   "source": [
    "\n",
    "#Effettuo l'operazione di split del data set\n",
    "from sklearn.model_selection import train_test_split\n",
    "\n",
    "X_train, X_test, y_train, y_test = train_test_split(X_standardized, y, test_size=0.3, random_state=42)\n",
    "X_train.shape, X_test.shape, y_train.shape, y_test.shape\n",
    "#X_train_3sec, X_test_3sec, y_train_3sec, y_test_3sec = train_test_split(X_standardized_3sec, y_3sec, test_size=0.3, random_state=42)\n",
    "#X_train_3sec.shape, X_test_3sec.shape, y_train_3sec.shape, y_test_3sec.shape\n"
   ]
  },
  {
   "cell_type": "code",
   "execution_count": 52,
   "metadata": {},
   "outputs": [
    {
     "data": {
      "text/plain": [
       "((6993, 116), (2997, 116), (6993,), (2997,))"
      ]
     },
     "execution_count": 52,
     "metadata": {},
     "output_type": "execute_result"
    }
   ],
   "source": [
    "X_train_3sec, X_test_3sec, y_train_3sec, y_test_3sec = train_test_split(X_standardized_3sec, y_3sec, test_size=0.3, random_state=42)\n",
    "X_train_3sec.shape, X_test_3sec.shape, y_train_3sec.shape, y_test_3sec.shape"
   ]
  },
  {
   "cell_type": "markdown",
   "metadata": {},
   "source": [
    "<H2> KNN\n"
   ]
  },
  {
   "cell_type": "markdown",
   "metadata": {},
   "source": [
    "<h3> Definizione della scelta del k Tramite Grid_Search"
   ]
  },
  {
   "cell_type": "code",
   "execution_count": 53,
   "metadata": {},
   "outputs": [
    {
     "name": "stdout",
     "output_type": "stream",
     "text": [
      "---------------K 30 SEC-----------------\n",
      "Miglior valore di K: {'n_neighbors': 6}\n",
      "Accuracy con il miglior K: 0.6514285714285715\n",
      "---------------K 3 SEC-----------------\n",
      "Miglior valore di K: {'n_neighbors': 1}\n",
      "Accuracy con il miglior K: 0.8537115720302975\n"
     ]
    }
   ],
   "source": [
    "from sklearn.model_selection import GridSearchCV\n",
    "from sklearn.neighbors import KNeighborsClassifier\n",
    "\n",
    "# Definire i possibili valori di K\n",
    "param_grid = {'n_neighbors': list(range(1, 30))}\n",
    "\n",
    "# Usare GridSearchCV per trovare il valore ottimale\n",
    "grid_search = GridSearchCV(KNeighborsClassifier(), param_grid, cv=5, scoring='accuracy')\n",
    "grid_search.fit(X_train, y_train)\n",
    "\n",
    "grid_search_3sec = GridSearchCV(KNeighborsClassifier(), param_grid, cv=5, scoring='accuracy')\n",
    "grid_search_3sec.fit(X_train_3sec, y_train_3sec)\n",
    "\n",
    "\n",
    "# Miglior valore di K\n",
    "print(\"---------------K 30 SEC-----------------\")\n",
    "print(f\"Miglior valore di K: {grid_search.best_params_}\")\n",
    "print(f\"Accuracy con il miglior K: {grid_search.best_score_}\")\n",
    "\n",
    "# Miglior valore di K 3 sec\n",
    "print(\"---------------K 3 SEC-----------------\")\n",
    "print(f\"Miglior valore di K: {grid_search_3sec.best_params_}\")\n",
    "print(f\"Accuracy con il miglior K: {grid_search_3sec.best_score_}\")"
   ]
  },
  {
   "cell_type": "markdown",
   "metadata": {},
   "source": [
    "Implemento KNN"
   ]
  },
  {
   "cell_type": "code",
   "execution_count": 54,
   "metadata": {},
   "outputs": [
    {
     "name": "stdout",
     "output_type": "stream",
     "text": [
      " -------------DATASET 30 SEC ----------------\n",
      "KNN Accuracy: 0.6466666666666666\n",
      "Precision: 0.6632\n",
      "Recall: 0.6467\n",
      "F1-Score: 0.6446\n",
      " -------------DATASET 3 SEC ----------------\n",
      "KNN Accuracy: 0.7807807807807807\n",
      "Precision 3: 0.7868\n",
      "Recall 3: 0.7808\n",
      "F1-Score 3: 0.7822\n"
     ]
    }
   ],
   "source": [
    "from sklearn.neighbors import KNeighborsClassifier\n",
    "from sklearn.metrics import accuracy_score\n",
    "from sklearn.metrics import accuracy_score, precision_score, recall_score, f1_score, confusion_matrix, classification_report\n",
    "from sklearn.model_selection import StratifiedKFold, cross_val_score\n",
    "\n",
    "# Inizializzare il modello KNN\n",
    "knn = KNeighborsClassifier(n_neighbors=7)\n",
    "knn_3sec = KNeighborsClassifier(n_neighbors=1)\n",
    "\n",
    "# Addestrare il modello\n",
    "knn_3sec.fit(X_train, y_train)\n",
    "knn.fit(X_train, y_train)\n",
    "\n",
    "\n",
    "\n",
    "\n",
    "# PROVO A IMPLEMENTARE E FARE MIGLIORAMENTI CON K-FOLD CROSS VALIDATION\n",
    "# Implementiamo la K-Fold Cross-Validation con StratifiedKFold per preservare le proporzioni delle classi\n",
    "#kf = StratifiedKFold(n_splits=5, shuffle=True, random_state=42)  # 5-fold cross-validation\n",
    "#kf_ = StratifiedKFold(n_splits=5, shuffle=True, random_state=42)\n",
    "\n",
    "\n",
    "# Fare previsioni sul set di test\n",
    "y_pred = knn.predict(X_test)\n",
    "y_pred_3sec = knn_3sec.predict(X_test_3sec)\n",
    "\n",
    "\n",
    "\n",
    "# Valutare l'accuratezza\n",
    "accuracy_knn = accuracy_score(y_test, y_pred)\n",
    "#print(f\"KNN Accuracy: {accuracy_knn}\")\n",
    "\n",
    "accuracy_knn_3sec = accuracy_score(y_test_3sec, y_pred_3sec)\n",
    "#print(f\"KNN Accuracy: {accuracy_knn_3sec}\")\n",
    "\n",
    "# Calcoliamo le score di cross-validation (Accuracy)\n",
    "#cv_scores = cross_val_score(knn, X_train_3sec, y_train_3sec, cv=kf, scoring='accuracy')  #-------------\n",
    "#cv_scores_ = cross_val_score(knn, X_train, y_train, cv=kf_, scoring='accuracy')  #-------------\n",
    "\n",
    "# Precision, Recall, F1-Score per classificazione multiclasse\n",
    "precision = precision_score(y_test, y_pred, average='weighted')\n",
    "recall = recall_score(y_test, y_pred, average='weighted')\n",
    "f1 = f1_score(y_test, y_pred, average='weighted')\n",
    "\n",
    "precision_3sec = precision_score(y_test_3sec, y_pred_3sec, average='weighted')\n",
    "recall_3sec = recall_score(y_test_3sec, y_pred_3sec, average='weighted')\n",
    "f1_3sec = f1_score(y_test_3sec, y_pred_3sec, average='weighted')\n",
    "\n",
    "print(\" -------------DATASET 30 SEC ----------------\")\n",
    "print(f\"KNN Accuracy: {accuracy_knn}\")\n",
    "print(f\"Precision: {precision:.4f}\")\n",
    "print(f\"Recall: {recall:.4f}\")\n",
    "print(f\"F1-Score: {f1:.4f}\")\n",
    "print(\" -------------DATASET 3 SEC ----------------\")\n",
    "print(f\"KNN Accuracy: {accuracy_knn_3sec}\")\n",
    "print(f\"Precision 3: {precision_3sec:.4f}\")\n",
    "print(f\"Recall 3: {recall_3sec:.4f}\")\n",
    "print(f\"F1-Score 3: {f1_3sec:.4f}\")\n",
    "\n",
    "\n",
    "\n",
    "#----------------\n",
    "\n",
    "\n",
    "# Confusion Matrix\n",
    "#conf_matrix = confusion_matrix(y_test, y_pred)\n",
    "#print(f\"Confusion Matrix:\\n{conf_matrix}\")\n",
    "\n",
    "# Report dettagliato con Precision, Recall, F1-Score per ciascuna classe\n",
    "\n",
    "#print(\"Classification Report:\\n\", classification_report(y_test, y_pred))\n"
   ]
  },
  {
   "cell_type": "markdown",
   "metadata": {},
   "source": [
    "Porvo a Migliorare KNN con K-fold"
   ]
  },
  {
   "cell_type": "code",
   "execution_count": 55,
   "metadata": {},
   "outputs": [
    {
     "name": "stdout",
     "output_type": "stream",
     "text": [
      " -------------DATASET 3 SEC ----------------\n",
      "K-Fold Cross-Validation Accuracy Scores: [0.82558971 0.8263045  0.81701215 0.80686695 0.80615165]\n",
      "Mean Accuracy: 0.8163849919368115\n",
      "Standard Deviation: 0.008704381262945744\n",
      " -------------DATASET 30 SEC ----------------\n",
      "K-Fold Cross-Validation Accuracy Scores: [0.70714286 0.62857143 0.62142857 0.62142857 0.61428571]\n",
      "Mean Accuracy: 0.6385714285714286\n",
      "Standard Deviation: 0.03458205267688631\n"
     ]
    }
   ],
   "source": [
    "# PROVO A IMPLEMENTARE E FARE MIGLIORAMENTI CON K-FOLD CROSS VALIDATION\n",
    "# Implementiamo la K-Fold Cross-Validation con StratifiedKFold per preservare le proporzioni delle classi\n",
    "kf = StratifiedKFold(n_splits=5, shuffle=True, random_state=42)  # 5-fold cross-validation\n",
    "kf_ = StratifiedKFold(n_splits=5, shuffle=True, random_state=42)\n",
    "\n",
    "# Calcoliamo le score di cross-validation (Accuracy)\n",
    "cv_scores = cross_val_score(knn, X_train_3sec, y_train_3sec, cv=kf, scoring='accuracy')  #-------------\n",
    "cv_scores_ = cross_val_score(knn, X_train, y_train, cv=kf_, scoring='accuracy')  #-------------\n",
    "\n",
    "\n",
    "# Stampiamo i risultati\n",
    "print(\" -------------DATASET 3 SEC ----------------\")\n",
    "print(f\"K-Fold Cross-Validation Accuracy Scores: {cv_scores}\")\n",
    "print(f\"Mean Accuracy: {np.mean(cv_scores)}\")\n",
    "print(f\"Standard Deviation: {np.std(cv_scores)}\")\n",
    "\n",
    "\n",
    "#spieghiamo perche non ci sono miglioramenti (pochi dati ???)\n",
    "print(\" -------------DATASET 30 SEC ----------------\")\n",
    "print(f\"K-Fold Cross-Validation Accuracy Scores: {cv_scores_}\")\n",
    "print(f\"Mean Accuracy: {np.mean(cv_scores_)}\")\n",
    "print(f\"Standard Deviation: {np.std(cv_scores_)}\")"
   ]
  },
  {
   "cell_type": "markdown",
   "metadata": {},
   "source": []
  },
  {
   "cell_type": "markdown",
   "metadata": {},
   "source": [
    "<H1>RANDOM FOREST"
   ]
  },
  {
   "cell_type": "code",
   "execution_count": 56,
   "metadata": {},
   "outputs": [
    {
     "name": "stdout",
     "output_type": "stream",
     "text": [
      " -------------DATASET 30 SEC ----------------\n",
      "RandomForestClassifier 0.7333333333333333\n",
      "RandomForestClassifier 0.7465890934684764\n",
      "XGBClassifier 0.73\n",
      "XGBClassifier 0.736187890171524\n",
      "CatBoostClassifier 0.78\n",
      "CatBoostClassifier 0.7842479149317363\n",
      " -------------DATASET 3 SEC ----------------\n",
      "RandomForestClassifier 0.8031364698031365\n",
      "RandomForestClassifier 0.8030324065517638\n",
      "XGBClassifier 0.9002335669002336\n",
      "XGBClassifier 0.9004169300167675\n",
      "CatBoostClassifier 0.9072405739072406\n",
      "CatBoostClassifier 0.9067850308399453\n"
     ]
    }
   ],
   "source": [
    "import time\n",
    "import catboost as cb \n",
    "from xgboost import XGBClassifier \n",
    "from sklearn.ensemble import RandomForestClassifier\n",
    "\n",
    "rf = RandomForestClassifier(n_estimators=1000, max_depth=10, random_state=0) \n",
    "cbc = cb.CatBoostClassifier(verbose=0, eval_metric='Accuracy', loss_function='MultiClass') \n",
    "xgb = XGBClassifier(n_estimators=1000, learning_rate=0.05) \n",
    "\n",
    "\n",
    "print(\" -------------DATASET 30 SEC ----------------\")\n",
    "\n",
    "for clf in (rf, xgb, cbc): \n",
    "    start = time.time() \n",
    "    clf.fit(X_train, y_train) \n",
    "    preds = clf.predict(X_test) \n",
    "    end = time.time()\n",
    "\n",
    "    print(clf.__class__.__name__,accuracy_score(y_test, preds))\n",
    "    print(clf.__class__.__name__,precision_score(y_test, preds, average='macro'))\n",
    "    #print(f\"Random Forest Accuracy: {accuracy_score}\")\n",
    "    #print(\"Classification Report:\\n\", classification_report(y_test, preds))\n",
    "\n",
    "\n",
    "print(\" -------------DATASET 3 SEC ----------------\")\n",
    "\n",
    "for clf in (rf, xgb, cbc): \n",
    "    start = time.time() \n",
    "    clf.fit(X_train_3sec, y_train_3sec) \n",
    "    preds_3sec = clf.predict(X_test_3sec) \n",
    "    end = time.time()\n",
    "\n",
    "    \n",
    "    print(clf.__class__.__name__,precision_score(y_test_3sec, preds_3sec, average='macro'))\n",
    "    "
   ]
  },
  {
   "cell_type": "markdown",
   "metadata": {},
   "source": [
    "Proviamo Ad Applicare la Corss validation "
   ]
  },
  {
   "cell_type": "code",
   "execution_count": 57,
   "metadata": {},
   "outputs": [
    {
     "name": "stdout",
     "output_type": "stream",
     "text": [
      " -------------DATASET 30 SEC ----------------\n",
      "Random Forest CV Accuracy: 0.7614285714285713\n",
      "CatBoost CV Accuracy: 0.7971428571428572\n",
      "XGBoost CV Accuracy: 0.7457142857142858\n",
      " -------------DATASET 3 SEC ----------------\n",
      "Random Forest CV Accuracy: 0.7824966944506653\n",
      "CatBoost CV Accuracy: 0.8814539508600564\n",
      "XGBoost CV Accuracy: 0.8781645585800607\n"
     ]
    }
   ],
   "source": [
    "from sklearn.model_selection import cross_val_score\n",
    "\n",
    "\n",
    "print(\" -------------DATASET 30 SEC ----------------\")\n",
    "# Cross-validation per RandomForest\n",
    "cv_scores_rf = cross_val_score(rf, X_train, y_train, cv=5, scoring='accuracy')\n",
    "print(f\"Random Forest CV Accuracy: {cv_scores_rf.mean()}\")\n",
    "\n",
    "# Cross-validation per CatBoost\n",
    "cv_scores_catboost = cross_val_score(cbc, X_train, y_train, cv=5, scoring='accuracy')\n",
    "print(f\"CatBoost CV Accuracy: {cv_scores_catboost.mean()}\")\n",
    "\n",
    "# Cross-validation per XGBoost\n",
    "cv_scores_xgb = cross_val_score(xgb, X_train, y_train, cv=5, scoring='accuracy')\n",
    "print(f\"XGBoost CV Accuracy: {cv_scores_xgb.mean()}\")\n",
    "\n",
    "\n",
    "\n",
    "#Capire perche con k-fold peggiora invece di migliorare\n",
    "print(\" -------------DATASET 3 SEC ----------------\")\n",
    "\n",
    "# Cross-validation per RandomForest\n",
    "cv_scores_rf = cross_val_score(rf, X_train_3sec, y_train_3sec, cv=5, scoring='accuracy')\n",
    "print(f\"Random Forest CV Accuracy: {cv_scores_rf.mean()}\")\n",
    "\n",
    "# Cross-validation per CatBoost\n",
    "cv_scores_catboost = cross_val_score(cbc, X_train_3sec, y_train_3sec, cv=5, scoring='accuracy')\n",
    "print(f\"CatBoost CV Accuracy: {cv_scores_catboost.mean()}\")\n",
    "\n",
    "# Cross-validation per XGBoost\n",
    "cv_scores_xgb = cross_val_score(xgb, X_train_3sec, y_train_3sec, cv=5, scoring='accuracy')\n",
    "print(f\"XGBoost CV Accuracy: {cv_scores_xgb.mean()}\")"
   ]
  },
  {
   "cell_type": "markdown",
   "metadata": {},
   "source": [
    "<h3>Voglio far vedere tramite dei grafici per far capire i miglioramenti"
   ]
  },
  {
   "cell_type": "code",
   "execution_count": 58,
   "metadata": {},
   "outputs": [
    {
     "name": "stdout",
     "output_type": "stream",
     "text": [
      "Base Model Accuracy: 0.7807807807807807\n",
      "K-Fold Model Accuracy: 0.8163849919368115\n"
     ]
    },
    {
     "data": {
      "image/png": "[encoded data removed]",
      "text/plain": [
       "<Figure size 800x600 with 1 Axes>"
      ]
     },
     "metadata": {},
     "output_type": "display_data"
    }
   ],
   "source": [
    "import seaborn as sns\n",
    "\n",
    "# Calcola l'accuratezza del modello base\n",
    "accuracy_base = accuracy_score(y_test_3sec, y_pred_3sec)\n",
    "print(f\"Base Model Accuracy: {accuracy_base}\")\n",
    "\n",
    "\n",
    "# Media delle accuratezze su tutte le fold\n",
    "accuracy_kfold = cv_scores.mean()\n",
    "print(f\"K-Fold Model Accuracy: {accuracy_kfold}\")\n",
    "\n",
    "\n",
    "# Imposta i valori da visualizzare\n",
    "accuracies = [accuracy_base, accuracy_kfold]\n",
    "labels = ['Base Model', 'K-Fold Model']\n",
    "\n",
    "# Crea un grafico a barre\n",
    "plt.figure(figsize=(8, 6))\n",
    "sns.barplot(x=labels, y=accuracies)\n",
    "\n",
    "# Aggiungi titoli e etichette\n",
    "plt.title('Confronto tra Modello Base e Modello con K-Fold')\n",
    "plt.ylabel('Accuracy')\n",
    "plt.xlabel('Modelli')\n",
    "\n",
    "# Mostra il grafico\n",
    "plt.show()\n"
   ]
  },
  {
   "cell_type": "code",
   "execution_count": 59,
   "metadata": {},
   "outputs": [
    {
     "name": "stdout",
     "output_type": "stream",
     "text": [
      "          filename  length  chroma_stft_mean  chroma_stft_var  rms_mean  \\\n",
      "0  blues.00000.wav  661794          0.350088         0.088757  0.130228   \n",
      "1  blues.00001.wav  661794          0.340914         0.094980  0.095948   \n",
      "2  blues.00002.wav  661794          0.363637         0.085275  0.175570   \n",
      "3  blues.00003.wav  661794          0.404785         0.093999  0.141093   \n",
      "4  blues.00004.wav  661794          0.308526         0.087841  0.091529   \n",
      "\n",
      "    rms_var  spectral_centroid_mean  spectral_centroid_var  \\\n",
      "0  0.002827             1784.165850          129774.064525   \n",
      "1  0.002373             1530.176679          375850.073649   \n",
      "2  0.002746             1552.811865          156467.643368   \n",
      "3  0.006346             1070.106615          184355.942417   \n",
      "4  0.002303             1835.004266          343399.939274   \n",
      "\n",
      "   spectral_bandwidth_mean  spectral_bandwidth_var  ...  rms_var_noisy  \\\n",
      "0              2002.449060            85882.761315  ...      -0.007806   \n",
      "1              2039.036516           213843.755497  ...      -0.002735   \n",
      "2              1747.702312            76254.192257  ...       0.004359   \n",
      "3              1596.412872           166441.494769  ...       0.007869   \n",
      "4              1748.172116            88445.209036  ...       0.009525   \n",
      "\n",
      "   rolloff_mean_noisy  rolloff_var_noisy  spectral_bandwidth_mean_noisy  \\\n",
      "0         3805.845813       9.015054e+05                    2002.436973   \n",
      "1         3550.513002       2.977893e+06                    2039.033371   \n",
      "2         3042.260026       7.840345e+05                    1747.725112   \n",
      "3         2184.753705       1.493194e+06                    1596.419841   \n",
      "4         3579.769655       1.572978e+06                    1748.165746   \n",
      "\n",
      "   spectral_bandwidth_var_noisy  spectral_centroid_mean_noisy  \\\n",
      "0                  85882.758911                   1784.160386   \n",
      "1                 213843.763619                   1530.185121   \n",
      "2                  76254.183629                   1552.813665   \n",
      "3                 166441.504924                   1070.111301   \n",
      "4                  88445.202439                   1835.012167   \n",
      "\n",
      "   spectral_centroid_var_noisy  tempo_noisy  zero_crossing_rate_mean_noisy  \\\n",
      "0                129774.063090   123.050844                       0.098139   \n",
      "1                375850.063688    67.991442                       0.046285   \n",
      "2                156467.649483   161.504452                       0.067506   \n",
      "3                184355.943333    63.021236                       0.028919   \n",
      "4                343399.940849   136.013359                       0.105499   \n",
      "\n",
      "   zero_crossing_rate_var_noisy  \n",
      "0                      0.011750  \n",
      "1                      0.003714  \n",
      "2                      0.003437  \n",
      "3                      0.007388  \n",
      "4                      0.001656  \n",
      "\n",
      "[5 rows x 118 columns]\n"
     ]
    }
   ],
   "source": [
    "import pandas as pd\n",
    "import numpy as np\n",
    "\n",
    "# Carica il dataset\n",
    "df = pd.read_csv('Data/features_30_secARG.csv')\n",
    "\n",
    "# Funzione per aggiungere rumore\n",
    "def add_noise(data, noise_factor=0.01):\n",
    "    noise = np.random.normal(loc=0.0, scale=noise_factor, size=data.shape)\n",
    "    return data + noise\n",
    "\n",
    "# Aggiungi rumore alle features (escludendo la colonna 'label')\n",
    "augmented_df = df.copy()\n",
    "features = df.columns.difference(['filename', 'label'])\n",
    "\n",
    "for feature in features:\n",
    "    augmented_df[feature + '_noisy'] = add_noise(df[feature])\n",
    "\n",
    "# Ora 'augmented_df' contiene nuove colonne con dati augmentati\n",
    "print(augmented_df.head())\n"
   ]
  },
  {
   "cell_type": "markdown",
   "metadata": {},
   "source": [
    "ORA HO INTRODOTTO IL RUMORE IN MODO DA AVERE PIU DATI "
   ]
  },
  {
   "cell_type": "code",
   "execution_count": null,
   "metadata": {},
   "outputs": [],
   "source": []
  }
 ],
 "metadata": {
  "kernelspec": {
   "display_name": "Python 3",
   "language": "python",
   "name": "python3"
  },
  "language_info": {
   "codemirror_mode": {
    "name": "ipython",
    "version": 3
   },
   "file_extension": ".py",
   "mimetype": "text/x-python",
   "name": "python",
   "nbconvert_exporter": "python",
   "pygments_lexer": "ipython3",
   "version": "3.12.7"
  }
 },
 "nbformat": 4,
 "nbformat_minor": 2
}
